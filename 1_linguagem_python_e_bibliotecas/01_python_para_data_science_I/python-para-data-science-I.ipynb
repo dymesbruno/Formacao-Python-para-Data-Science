{
 "cells": [
  {
   "cell_type": "markdown",
   "id": "0bf3a53c",
   "metadata": {},
   "source": [
    "# Python para Data Science I"
   ]
  },
  {
   "cell_type": "markdown",
   "id": "b394674c",
   "metadata": {},
   "source": [
    "### Variáveis:"
   ]
  },
  {
   "cell_type": "code",
   "execution_count": 1,
   "id": "7a2528a0",
   "metadata": {},
   "outputs": [
    {
     "data": {
      "text/plain": [
       "2"
      ]
     },
     "execution_count": 1,
     "metadata": {},
     "output_type": "execute_result"
    }
   ],
   "source": [
    "1+1"
   ]
  },
  {
   "cell_type": "code",
   "execution_count": 2,
   "id": "7544d0a6",
   "metadata": {},
   "outputs": [
    {
     "data": {
      "text/plain": [
       "'Hebert Santana'"
      ]
     },
     "execution_count": 2,
     "metadata": {},
     "output_type": "execute_result"
    }
   ],
   "source": [
    "'Hebert Santana'"
   ]
  },
  {
   "cell_type": "code",
   "execution_count": 3,
   "id": "c62cb21c",
   "metadata": {},
   "outputs": [
    {
     "data": {
      "text/plain": [
       "'Hebert'"
      ]
     },
     "execution_count": 3,
     "metadata": {},
     "output_type": "execute_result"
    }
   ],
   "source": [
    "nome = 'Hebert'\n",
    "nome"
   ]
  },
  {
   "cell_type": "code",
   "execution_count": 4,
   "id": "05b40eaa",
   "metadata": {},
   "outputs": [
    {
     "data": {
      "text/plain": [
       "33"
      ]
     },
     "execution_count": 4,
     "metadata": {},
     "output_type": "execute_result"
    }
   ],
   "source": [
    "idade = 33\n",
    "idade"
   ]
  },
  {
   "cell_type": "code",
   "execution_count": 7,
   "id": "14391332",
   "metadata": {},
   "outputs": [
    {
     "name": "stdout",
     "output_type": "stream",
     "text": [
      "O meu nome é Hebert e minha idade é 33 anos.\n"
     ]
    }
   ],
   "source": [
    "print(f'O meu nome é {nome} e minha idade é {idade} anos.')"
   ]
  },
  {
   "cell_type": "markdown",
   "id": "23269938",
   "metadata": {},
   "source": [
    "### Criando a primeira função:"
   ]
  },
  {
   "cell_type": "code",
   "execution_count": 11,
   "id": "bd2d5750",
   "metadata": {},
   "outputs": [],
   "source": [
    "def saudacao():\n",
    "    nome = input('Qual é o seu nome? ')\n",
    "    print(f'Olá, {nome}.')"
   ]
  },
  {
   "cell_type": "code",
   "execution_count": 12,
   "id": "a182887f",
   "metadata": {},
   "outputs": [
    {
     "name": "stdout",
     "output_type": "stream",
     "text": [
      "Qual é o seu nome? Hebert\n",
      "Olá, Hebert.\n"
     ]
    }
   ],
   "source": [
    "saudacao()"
   ]
  },
  {
   "cell_type": "markdown",
   "id": "8e0e3545",
   "metadata": {},
   "source": [
    "### Parâmetros:"
   ]
  },
  {
   "cell_type": "code",
   "execution_count": 13,
   "id": "c44e31f5",
   "metadata": {},
   "outputs": [],
   "source": [
    "nome = 'Hebert F Santana'"
   ]
  },
  {
   "cell_type": "code",
   "execution_count": 14,
   "id": "3cb89b45",
   "metadata": {},
   "outputs": [],
   "source": [
    "def saudacao_com_parametros(nome_da_pessoa):\n",
    "    print(f'Olá, {nome_da_pessoa}.')"
   ]
  },
  {
   "cell_type": "code",
   "execution_count": 15,
   "id": "1cdde86b",
   "metadata": {},
   "outputs": [
    {
     "name": "stdout",
     "output_type": "stream",
     "text": [
      "Olá, Hebert F Santana.\n"
     ]
    }
   ],
   "source": [
    "saudacao_com_parametros(nome)"
   ]
  },
  {
   "cell_type": "markdown",
   "id": "67e256f7",
   "metadata": {},
   "source": [
    "### Condicional:"
   ]
  },
  {
   "cell_type": "code",
   "execution_count": 16,
   "id": "3b272cbb",
   "metadata": {},
   "outputs": [
    {
     "name": "stdout",
     "output_type": "stream",
     "text": [
      "Bom dia, qual é sua idade? 22\n",
      "Você tem permissão para dirigir.\n"
     ]
    }
   ],
   "source": [
    "def verifica_se_pode_dirigir_sem_parametros():\n",
    "  idade = input('Bom dia, qual é sua idade? ')\n",
    "  idade = int(idade)\n",
    "  if idade >= 18:\n",
    "    print('Você tem permissão para dirigir.')\n",
    "  else:\n",
    "    print('Você não tem permissão para dirigir.')\n",
    "\n",
    "verifica_se_pode_dirigir_sem_parametros()"
   ]
  },
  {
   "cell_type": "markdown",
   "id": "ff57de07",
   "metadata": {},
   "source": [
    "### Lista:"
   ]
  },
  {
   "cell_type": "code",
   "execution_count": 17,
   "id": "cc5862bf",
   "metadata": {},
   "outputs": [
    {
     "data": {
      "text/plain": [
       "33"
      ]
     },
     "execution_count": 17,
     "metadata": {},
     "output_type": "execute_result"
    }
   ],
   "source": [
    "idade = 33\n",
    "idade"
   ]
  },
  {
   "cell_type": "code",
   "execution_count": 18,
   "id": "c629aaaf",
   "metadata": {},
   "outputs": [
    {
     "data": {
      "text/plain": [
       "int"
      ]
     },
     "execution_count": 18,
     "metadata": {},
     "output_type": "execute_result"
    }
   ],
   "source": [
    "type(idade)"
   ]
  },
  {
   "cell_type": "code",
   "execution_count": 19,
   "id": "0a991bef",
   "metadata": {},
   "outputs": [
    {
     "data": {
      "text/plain": [
       "str"
      ]
     },
     "execution_count": 19,
     "metadata": {},
     "output_type": "execute_result"
    }
   ],
   "source": [
    "nome = 'Maya'\n",
    "type(nome)"
   ]
  },
  {
   "cell_type": "code",
   "execution_count": 20,
   "id": "d5aa06ac",
   "metadata": {},
   "outputs": [
    {
     "data": {
      "text/plain": [
       "list"
      ]
     },
     "execution_count": 20,
     "metadata": {},
     "output_type": "execute_result"
    }
   ],
   "source": [
    "idades = [18, 19, 29, 33, 45]\n",
    "type(idades)"
   ]
  },
  {
   "cell_type": "markdown",
   "id": "2b1056c1",
   "metadata": {},
   "source": [
    "#### Como acessar os elementos da lista pelo índice:"
   ]
  },
  {
   "cell_type": "code",
   "execution_count": 22,
   "id": "5ad1b5a5",
   "metadata": {},
   "outputs": [],
   "source": [
    "idades = [18, 22, 15, 50]\n",
    "#         0   1   2   3\n",
    "#         0  -3  -2  -1"
   ]
  },
  {
   "cell_type": "code",
   "execution_count": 23,
   "id": "022e1d1a",
   "metadata": {},
   "outputs": [
    {
     "data": {
      "text/plain": [
       "15"
      ]
     },
     "execution_count": 23,
     "metadata": {},
     "output_type": "execute_result"
    }
   ],
   "source": [
    "idades[2]"
   ]
  },
  {
   "cell_type": "code",
   "execution_count": 24,
   "id": "65784fcc",
   "metadata": {},
   "outputs": [
    {
     "data": {
      "text/plain": [
       "[22, 15, 50]"
      ]
     },
     "execution_count": 24,
     "metadata": {},
     "output_type": "execute_result"
    }
   ],
   "source": [
    "idades[1:]"
   ]
  },
  {
   "cell_type": "code",
   "execution_count": 25,
   "id": "d3f3e734",
   "metadata": {},
   "outputs": [
    {
     "data": {
      "text/plain": [
       "[18, 22, 15]"
      ]
     },
     "execution_count": 25,
     "metadata": {},
     "output_type": "execute_result"
    }
   ],
   "source": [
    "idades[0:3]"
   ]
  },
  {
   "cell_type": "markdown",
   "id": "501ae181",
   "metadata": {},
   "source": [
    "### Laços e loops:"
   ]
  },
  {
   "cell_type": "code",
   "execution_count": 26,
   "id": "25d8a132",
   "metadata": {},
   "outputs": [
    {
     "data": {
      "text/plain": [
       "[18, 22, 15, 50]"
      ]
     },
     "execution_count": 26,
     "metadata": {},
     "output_type": "execute_result"
    }
   ],
   "source": [
    "idades"
   ]
  },
  {
   "cell_type": "code",
   "execution_count": 28,
   "id": "cf92a3e0",
   "metadata": {},
   "outputs": [
    {
     "name": "stdout",
     "output_type": "stream",
     "text": [
      "18 anos de idade; TEM permissão para dirigir.\n",
      "22 anos de idade; TEM permissão para dirigir.\n",
      "15 anos de idade; NÃO TEM permissão para dirigir.\n",
      "50 anos de idade; TEM permissão para dirigir.\n"
     ]
    }
   ],
   "source": [
    "# Usamos o for FORA DA FUNÇÃO para percorrer a minha lista das idades\n",
    "\n",
    "def verifica_se_pode_dirigir(idade):\n",
    "  if idade >= 18:\n",
    "    print(f'{idade} anos de idade; TEM permissão para dirigir.')\n",
    "  else:\n",
    "    print(f'{idade} anos de idade; NÃO TEM permissão para dirigir.')\n",
    "    \n",
    "    \n",
    "    \n",
    "#percorrendo a lista\n",
    "\n",
    "for idade in idades: \n",
    "  verifica_se_pode_dirigir(idade)"
   ]
  },
  {
   "cell_type": "code",
   "execution_count": 29,
   "id": "238cbcff",
   "metadata": {},
   "outputs": [
    {
     "name": "stdout",
     "output_type": "stream",
     "text": [
      "18 anos de idade; TEM permissão para dirigir.\n",
      "22 anos de idade; TEM permissão para dirigir.\n",
      "15 anos de idade; NÃO TEM permissão para dirigir.\n",
      "50 anos de idade; TEM permissão para dirigir.\n"
     ]
    }
   ],
   "source": [
    "# Usando o for DENTRO DA FUNÇÃO para percorrer a minha lista das idades\n",
    "\n",
    "def verifica_se_pode_dirigir(idades):\n",
    "    \n",
    "    #percorrendo a lista\n",
    "  for idade in idades:\n",
    "    \n",
    "    \n",
    "    if idade >= 18:\n",
    "      print(f'{idade} anos de idade; TEM permissão para dirigir.')\n",
    "    else:\n",
    "      print(f'{idade} anos de idade; NÃO TEM permissão para dirigir.')\n",
    "\n",
    "verifica_se_pode_dirigir(idades)"
   ]
  },
  {
   "cell_type": "markdown",
   "id": "09e34892",
   "metadata": {},
   "source": [
    "### Booleano:"
   ]
  },
  {
   "cell_type": "code",
   "execution_count": 30,
   "id": "d5bb1591",
   "metadata": {},
   "outputs": [
    {
     "data": {
      "text/plain": [
       "True"
      ]
     },
     "execution_count": 30,
     "metadata": {},
     "output_type": "execute_result"
    }
   ],
   "source": [
    "idade = 18\n",
    "idade >= 18"
   ]
  },
  {
   "cell_type": "code",
   "execution_count": 31,
   "id": "e45b0177",
   "metadata": {},
   "outputs": [
    {
     "data": {
      "text/plain": [
       "False"
      ]
     },
     "execution_count": 31,
     "metadata": {},
     "output_type": "execute_result"
    }
   ],
   "source": [
    "idade > 22"
   ]
  },
  {
   "cell_type": "code",
   "execution_count": 34,
   "id": "b81840ae",
   "metadata": {},
   "outputs": [],
   "source": [
    "# Crio uma lista vazia para receber as respostas de cada índice\n",
    "permissoes = []\n",
    "\n",
    "\n",
    "idades = [20, 14, 40]\n",
    "\n",
    "def verifica_se_pode_dirigir(idades, permissoes):\n",
    "  for idade in idades:\n",
    "    if idade >= 18:\n",
    "        \n",
    "        #Com .append() eu adiciono o elemento na lista permissoes\n",
    "        \n",
    "      permissoes.append(True)\n",
    "    else:\n",
    "      permissoes.append(False)\n",
    "\n",
    "verifica_se_pode_dirigir(idades, permissoes)"
   ]
  },
  {
   "cell_type": "code",
   "execution_count": 35,
   "id": "23796607",
   "metadata": {},
   "outputs": [
    {
     "data": {
      "text/plain": [
       "[True, False, True]"
      ]
     },
     "execution_count": 35,
     "metadata": {},
     "output_type": "execute_result"
    }
   ],
   "source": [
    "# Chamo a lista para ver o resultado\n",
    "permissoes"
   ]
  },
  {
   "cell_type": "code",
   "execution_count": 36,
   "id": "3363ff5e",
   "metadata": {},
   "outputs": [
    {
     "name": "stdout",
     "output_type": "stream",
     "text": [
      "Tem permissão para dirigir.\n",
      "Não tem permissão para dirigir.\n",
      "Tem permissão para dirigir.\n"
     ]
    }
   ],
   "source": [
    "# Percorrendo a lista permissoes\n",
    "\n",
    "for permissao in permissoes:\n",
    "  if permissao == True:\n",
    "    print('Tem permissão para dirigir.')\n",
    "  else:\n",
    "    print('Não tem permissão para dirigir.') "
   ]
  },
  {
   "cell_type": "markdown",
   "id": "1bf63b44",
   "metadata": {},
   "source": [
    "### Tipos de variáveis em uma lista:"
   ]
  },
  {
   "cell_type": "code",
   "execution_count": 39,
   "id": "46b14e95",
   "metadata": {},
   "outputs": [
    {
     "name": "stdout",
     "output_type": "stream",
     "text": [
      "O elemento Hebert é do tipo:  <class 'str'>\n",
      "O elemento 33 é do tipo:  <class 'int'>\n",
      "O elemento True é do tipo:  <class 'bool'>\n",
      "O elemento 18 é do tipo:  <class 'str'>\n",
      "O elemento 33.333 é do tipo:  <class 'float'>\n"
     ]
    }
   ],
   "source": [
    "lista = ['Hebert', 33, True, '18', 33.333]\n",
    "\n",
    "for elemento in lista:\n",
    "  print(f'O elemento {elemento} é do tipo: ', type(elemento))\n",
    "     "
   ]
  },
  {
   "cell_type": "markdown",
   "id": "26f8647c",
   "metadata": {},
   "source": [
    "### Importando funções e bibliotecas:"
   ]
  },
  {
   "cell_type": "code",
   "execution_count": 43,
   "id": "25c7aed6",
   "metadata": {},
   "outputs": [],
   "source": [
    "# A função randrange() e a randint() geram aleatoriamente um número inteiro dentro de um intervalo dado pelo usuário.\n",
    "# O random.seed() é o método usado para inicializar o gerador de números aleatórios."
   ]
  },
  {
   "cell_type": "code",
   "execution_count": 51,
   "id": "be068ad7",
   "metadata": {},
   "outputs": [],
   "source": [
    "from random import randrange, seed"
   ]
  },
  {
   "cell_type": "code",
   "execution_count": 81,
   "id": "4b8a3586",
   "metadata": {},
   "outputs": [
    {
     "data": {
      "text/plain": [
       "2"
      ]
     },
     "execution_count": 81,
     "metadata": {},
     "output_type": "execute_result"
    }
   ],
   "source": [
    "randrange(0, 3)"
   ]
  },
  {
   "cell_type": "code",
   "execution_count": 61,
   "id": "0c8a30e8",
   "metadata": {},
   "outputs": [
    {
     "data": {
      "text/plain": [
       "639"
      ]
     },
     "execution_count": 61,
     "metadata": {},
     "output_type": "execute_result"
    }
   ],
   "source": [
    "randrange(0, 1000) # o segundo argumento é o limite, o intervalo é entre o primeiro argumento e o (ultimo argumento - 1)"
   ]
  },
  {
   "cell_type": "code",
   "execution_count": 62,
   "id": "2c7db0ba",
   "metadata": {},
   "outputs": [
    {
     "data": {
      "text/plain": [
       "[1, 10, 8, 7, 6, 8, 8, 10]"
      ]
     },
     "execution_count": 62,
     "metadata": {},
     "output_type": "execute_result"
    }
   ],
   "source": [
    "notas_matematica = []\n",
    "\n",
    "for notas in range(8):\n",
    "  notas_matematica.append(randrange(0,11))\n",
    "\n",
    "notas_matematica"
   ]
  },
  {
   "cell_type": "code",
   "execution_count": 63,
   "id": "3969faf0",
   "metadata": {},
   "outputs": [
    {
     "data": {
      "text/plain": [
       "8"
      ]
     },
     "execution_count": 63,
     "metadata": {},
     "output_type": "execute_result"
    }
   ],
   "source": [
    "# Varificando o tamanho da lista notas_matematica\n",
    "len(notas_matematica)"
   ]
  },
  {
   "cell_type": "markdown",
   "id": "fd3c9c7f",
   "metadata": {},
   "source": [
    "### Matplotlib:"
   ]
  },
  {
   "cell_type": "code",
   "execution_count": 64,
   "id": "b9da4a75",
   "metadata": {},
   "outputs": [],
   "source": [
    "import matplotlib.pyplot as plt"
   ]
  },
  {
   "cell_type": "code",
   "execution_count": 82,
   "id": "547b2314",
   "metadata": {},
   "outputs": [
    {
     "data": {
      "image/png": "[encoded data removed]",
      "text/plain": [
       "<Figure size 640x480 with 1 Axes>"
      ]
     },
     "metadata": {},
     "output_type": "display_data"
    }
   ],
   "source": [
    "x = list(range(1, 9)) # x é uma lista com números aleatórios de 1 até 8\n",
    "y = notas_matematica # y é nossa lista de notas_matematica (percebe que as notas variaram de 1 até 10)\n",
    "\n",
    "\n",
    "plt.plot(x, y, marker='o')\n",
    "plt.title('Notas de matemática')\n",
    "plt.xlabel('Provas')\n",
    "plt.ylabel('Notas')\n",
    "plt.show()"
   ]
  },
  {
   "cell_type": "code",
   "execution_count": null,
   "id": "df7ba6f7",
   "metadata": {},
   "outputs": [],
   "source": []
  }
 ],
 "metadata": {
  "kernelspec": {
   "display_name": "Python 3",
   "language": "python",
   "name": "python3"
  },
  "language_info": {
   "codemirror_mode": {
    "name": "ipython",
    "version": 3
   },
   "file_extension": ".py",
   "mimetype": "text/x-python",
   "name": "python",
   "nbconvert_exporter": "python",
   "pygments_lexer": "ipython3",
   "version": "3.11.1 (tags/v3.11.1:a7a450f, Dec  6 2022, 19:58:39) [MSC v.1934 64 bit (AMD64)]"
  },
  "vscode": {
   "interpreter": {
    "hash": "528d5f62a6768939dc768d2134d4bafc14376049d7ddded7929d98db8b1b2bcc"
   }
  }
 },
 "nbformat": 4,
 "nbformat_minor": 5
}
